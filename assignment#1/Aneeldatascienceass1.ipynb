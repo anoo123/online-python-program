{
 "cells": [
  {
   "cell_type": "code",
   "execution_count": 14,
   "id": "a46d67b3",
   "metadata": {},
   "outputs": [
    {
     "name": "stdout",
     "output_type": "stream",
     "text": [
      "Twinkle, twinkle, little star \n",
      " \t  How i wonder what you are! \n",
      "       \t \t  Up above the world so high, \n",
      "   \t \t  Like a diamond in the sky\n",
      "Twinkle, Twinkle, Little star, \n",
      " \t  How i wonder what you are!\n"
     ]
    }
   ],
   "source": [
    "# Print the Poem\n",
    "\n",
    "print(\"Twinkle, twinkle, little star \\n \\t  How i wonder what you are! \\n       \\t \\t  Up above the world so high, \\n   \\t \\t  Like a diamond in the sky\")\n",
    "print(\"Twinkle, Twinkle, Little star, \\n \\t  How i wonder what you are!\")\n",
    "                "
   ]
  },
  {
   "cell_type": "code",
   "execution_count": 15,
   "id": "b5c50f94",
   "metadata": {},
   "outputs": [
    {
     "name": "stdout",
     "output_type": "stream",
     "text": [
      "3.9.7 (default, Sep 16 2021, 16:59:28) [MSC v.1916 64 bit (AMD64)]\n"
     ]
    }
   ],
   "source": [
    "# QUESTION 2\n",
    "import sys\n",
    "print(sys.version)"
   ]
  },
  {
   "cell_type": "code",
   "execution_count": 26,
   "id": "752c0b10",
   "metadata": {},
   "outputs": [
    {
     "name": "stdout",
     "output_type": "stream",
     "text": [
      " Enter the radius of circle:5\n",
      "The area of given circle: 78.5\n"
     ]
    }
   ],
   "source": [
    "#Question 4 calculate Area of circle\n",
    "PI=3.14\n",
    "r=float(input(\" Enter the radius of circle:\"))\n",
    "A= PI*r*r;\n",
    "print(\"The area of given circle:\",A)"
   ]
  },
  {
   "cell_type": "code",
   "execution_count": 28,
   "id": "7faa531d",
   "metadata": {},
   "outputs": [
    {
     "name": "stdout",
     "output_type": "stream",
     "text": [
      "Kumar Aneel\n"
     ]
    }
   ],
   "source": [
    "# Question 5\n",
    "\n",
    "first_nam= \"Aneel\";\n",
    "last_nam= \"Kumar\";\n",
    "temp_nam= first_nam;\n",
    "first_nam=last_nam;\n",
    "last_nam=temp_nam;\n",
    "print(first_nam,last_nam)"
   ]
  },
  {
   "cell_type": "code",
   "execution_count": 30,
   "id": "10314e12",
   "metadata": {},
   "outputs": [
    {
     "name": "stdout",
     "output_type": "stream",
     "text": [
      "Enter the first number:5\n",
      "Enter the second number:5\n",
      "The sum of two numbers is: 10\n"
     ]
    }
   ],
   "source": [
    "#Question 6\n",
    "x=int(input(\"Enter the first number:\"));\n",
    "y=int(input(\"Enter the second number:\"));\n",
    "sum=x+y;\n",
    "print(\"The sum of two numbers is:\",sum)"
   ]
  },
  {
   "cell_type": "code",
   "execution_count": 1,
   "id": "2c0223c1",
   "metadata": {},
   "outputs": [
    {
     "name": "stdout",
     "output_type": "stream",
     "text": [
      "today's date is: 2022-01-01\n"
     ]
    }
   ],
   "source": [
    "#Question 3\n",
    "from datetime import date;\n",
    "today = date.today();\n",
    "print(\"today's date is:\",today)"
   ]
  },
  {
   "cell_type": "code",
   "execution_count": null,
   "id": "c40dd1df",
   "metadata": {},
   "outputs": [],
   "source": []
  }
 ],
 "metadata": {
  "kernelspec": {
   "display_name": "Python 3 (ipykernel)",
   "language": "python",
   "name": "python3"
  },
  "language_info": {
   "codemirror_mode": {
    "name": "ipython",
    "version": 3
   },
   "file_extension": ".py",
   "mimetype": "text/x-python",
   "name": "python",
   "nbconvert_exporter": "python",
   "pygments_lexer": "ipython3",
   "version": "3.9.7"
  }
 },
 "nbformat": 4,
 "nbformat_minor": 5
}
